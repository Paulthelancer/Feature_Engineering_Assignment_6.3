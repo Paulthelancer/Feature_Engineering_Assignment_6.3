{
 "cells": [
  {
   "cell_type": "code",
   "execution_count": 1,
   "id": "98e75fdf-ea21-4e63-970a-89892bb1404d",
   "metadata": {
    "tags": []
   },
   "outputs": [
    {
     "data": {
      "text/html": [
       "<div>\n",
       "<style scoped>\n",
       "    .dataframe tbody tr th:only-of-type {\n",
       "        vertical-align: middle;\n",
       "    }\n",
       "\n",
       "    .dataframe tbody tr th {\n",
       "        vertical-align: top;\n",
       "    }\n",
       "\n",
       "    .dataframe thead th {\n",
       "        text-align: right;\n",
       "    }\n",
       "</style>\n",
       "<table border=\"1\" class=\"dataframe\">\n",
       "  <thead>\n",
       "    <tr style=\"text-align: right;\">\n",
       "      <th></th>\n",
       "      <th>No</th>\n",
       "      <th>X1 transaction date</th>\n",
       "      <th>X2 house age</th>\n",
       "      <th>X3 distance to the nearest MRT station</th>\n",
       "      <th>X4 number of convenience stores</th>\n",
       "      <th>X5 latitude</th>\n",
       "      <th>X6 longitude</th>\n",
       "      <th>Y house price of unit area</th>\n",
       "    </tr>\n",
       "  </thead>\n",
       "  <tbody>\n",
       "    <tr>\n",
       "      <th>0</th>\n",
       "      <td>1</td>\n",
       "      <td>2012.917</td>\n",
       "      <td>32.0</td>\n",
       "      <td>84.87882</td>\n",
       "      <td>10</td>\n",
       "      <td>24.98298</td>\n",
       "      <td>121.54024</td>\n",
       "      <td>37.9</td>\n",
       "    </tr>\n",
       "    <tr>\n",
       "      <th>1</th>\n",
       "      <td>2</td>\n",
       "      <td>2012.917</td>\n",
       "      <td>19.5</td>\n",
       "      <td>306.59470</td>\n",
       "      <td>9</td>\n",
       "      <td>24.98034</td>\n",
       "      <td>121.53951</td>\n",
       "      <td>42.2</td>\n",
       "    </tr>\n",
       "    <tr>\n",
       "      <th>2</th>\n",
       "      <td>3</td>\n",
       "      <td>2013.583</td>\n",
       "      <td>13.3</td>\n",
       "      <td>561.98450</td>\n",
       "      <td>5</td>\n",
       "      <td>24.98746</td>\n",
       "      <td>121.54391</td>\n",
       "      <td>47.3</td>\n",
       "    </tr>\n",
       "    <tr>\n",
       "      <th>3</th>\n",
       "      <td>4</td>\n",
       "      <td>2013.500</td>\n",
       "      <td>13.3</td>\n",
       "      <td>561.98450</td>\n",
       "      <td>5</td>\n",
       "      <td>24.98746</td>\n",
       "      <td>121.54391</td>\n",
       "      <td>54.8</td>\n",
       "    </tr>\n",
       "    <tr>\n",
       "      <th>4</th>\n",
       "      <td>5</td>\n",
       "      <td>2012.833</td>\n",
       "      <td>5.0</td>\n",
       "      <td>390.56840</td>\n",
       "      <td>5</td>\n",
       "      <td>24.97937</td>\n",
       "      <td>121.54245</td>\n",
       "      <td>43.1</td>\n",
       "    </tr>\n",
       "  </tbody>\n",
       "</table>\n",
       "</div>"
      ],
      "text/plain": [
       "   No  X1 transaction date  X2 house age  \\\n",
       "0   1             2012.917          32.0   \n",
       "1   2             2012.917          19.5   \n",
       "2   3             2013.583          13.3   \n",
       "3   4             2013.500          13.3   \n",
       "4   5             2012.833           5.0   \n",
       "\n",
       "   X3 distance to the nearest MRT station  X4 number of convenience stores  \\\n",
       "0                                84.87882                               10   \n",
       "1                               306.59470                                9   \n",
       "2                               561.98450                                5   \n",
       "3                               561.98450                                5   \n",
       "4                               390.56840                                5   \n",
       "\n",
       "   X5 latitude  X6 longitude  Y house price of unit area  \n",
       "0     24.98298     121.54024                        37.9  \n",
       "1     24.98034     121.53951                        42.2  \n",
       "2     24.98746     121.54391                        47.3  \n",
       "3     24.98746     121.54391                        54.8  \n",
       "4     24.97937     121.54245                        43.1  "
      ]
     },
     "execution_count": 1,
     "metadata": {},
     "output_type": "execute_result"
    }
   ],
   "source": [
    "#Step1: Importing libraries and reading Data\n",
    "import pandas as pd\n",
    "import numpy as np\n",
    "import matplotlib.pyplot as plt\n",
    "import seaborn as sns\n",
    "df = pd.read_csv('Real estate.csv')\n",
    "df.head()"
   ]
  },
  {
   "cell_type": "code",
   "execution_count": 2,
   "id": "78e71334-5695-4ea8-a80c-656218fc0b1f",
   "metadata": {
    "tags": []
   },
   "outputs": [
    {
     "data": {
      "text/plain": [
       "(414, 8)"
      ]
     },
     "execution_count": 2,
     "metadata": {},
     "output_type": "execute_result"
    }
   ],
   "source": [
    "df.shape"
   ]
  },
  {
   "cell_type": "code",
   "execution_count": 3,
   "id": "3cba2e20-cccd-4045-9812-2e409dc2471b",
   "metadata": {
    "tags": []
   },
   "outputs": [
    {
     "data": {
      "text/html": [
       "<div>\n",
       "<style scoped>\n",
       "    .dataframe tbody tr th:only-of-type {\n",
       "        vertical-align: middle;\n",
       "    }\n",
       "\n",
       "    .dataframe tbody tr th {\n",
       "        vertical-align: top;\n",
       "    }\n",
       "\n",
       "    .dataframe thead th {\n",
       "        text-align: right;\n",
       "    }\n",
       "</style>\n",
       "<table border=\"1\" class=\"dataframe\">\n",
       "  <thead>\n",
       "    <tr style=\"text-align: right;\">\n",
       "      <th></th>\n",
       "      <th>No</th>\n",
       "      <th>X1 transaction date</th>\n",
       "      <th>X2 house age</th>\n",
       "      <th>X3 distance to the nearest MRT station</th>\n",
       "      <th>X4 number of convenience stores</th>\n",
       "      <th>X5 latitude</th>\n",
       "      <th>X6 longitude</th>\n",
       "      <th>Y house price of unit area</th>\n",
       "    </tr>\n",
       "  </thead>\n",
       "  <tbody>\n",
       "    <tr>\n",
       "      <th>0</th>\n",
       "      <td>1</td>\n",
       "      <td>2012.917</td>\n",
       "      <td>32.0</td>\n",
       "      <td>84.87882</td>\n",
       "      <td>10</td>\n",
       "      <td>24.98298</td>\n",
       "      <td>121.54024</td>\n",
       "      <td>37.9</td>\n",
       "    </tr>\n",
       "    <tr>\n",
       "      <th>1</th>\n",
       "      <td>2</td>\n",
       "      <td>2012.917</td>\n",
       "      <td>19.5</td>\n",
       "      <td>306.59470</td>\n",
       "      <td>9</td>\n",
       "      <td>24.98034</td>\n",
       "      <td>121.53951</td>\n",
       "      <td>42.2</td>\n",
       "    </tr>\n",
       "    <tr>\n",
       "      <th>2</th>\n",
       "      <td>3</td>\n",
       "      <td>2013.583</td>\n",
       "      <td>13.3</td>\n",
       "      <td>561.98450</td>\n",
       "      <td>5</td>\n",
       "      <td>24.98746</td>\n",
       "      <td>121.54391</td>\n",
       "      <td>47.3</td>\n",
       "    </tr>\n",
       "    <tr>\n",
       "      <th>3</th>\n",
       "      <td>4</td>\n",
       "      <td>2013.500</td>\n",
       "      <td>13.3</td>\n",
       "      <td>561.98450</td>\n",
       "      <td>5</td>\n",
       "      <td>24.98746</td>\n",
       "      <td>121.54391</td>\n",
       "      <td>54.8</td>\n",
       "    </tr>\n",
       "    <tr>\n",
       "      <th>4</th>\n",
       "      <td>5</td>\n",
       "      <td>2012.833</td>\n",
       "      <td>5.0</td>\n",
       "      <td>390.56840</td>\n",
       "      <td>5</td>\n",
       "      <td>24.97937</td>\n",
       "      <td>121.54245</td>\n",
       "      <td>43.1</td>\n",
       "    </tr>\n",
       "    <tr>\n",
       "      <th>...</th>\n",
       "      <td>...</td>\n",
       "      <td>...</td>\n",
       "      <td>...</td>\n",
       "      <td>...</td>\n",
       "      <td>...</td>\n",
       "      <td>...</td>\n",
       "      <td>...</td>\n",
       "      <td>...</td>\n",
       "    </tr>\n",
       "    <tr>\n",
       "      <th>409</th>\n",
       "      <td>410</td>\n",
       "      <td>2013.000</td>\n",
       "      <td>13.7</td>\n",
       "      <td>4082.01500</td>\n",
       "      <td>0</td>\n",
       "      <td>24.94155</td>\n",
       "      <td>121.50381</td>\n",
       "      <td>15.4</td>\n",
       "    </tr>\n",
       "    <tr>\n",
       "      <th>410</th>\n",
       "      <td>411</td>\n",
       "      <td>2012.667</td>\n",
       "      <td>5.6</td>\n",
       "      <td>90.45606</td>\n",
       "      <td>9</td>\n",
       "      <td>24.97433</td>\n",
       "      <td>121.54310</td>\n",
       "      <td>50.0</td>\n",
       "    </tr>\n",
       "    <tr>\n",
       "      <th>411</th>\n",
       "      <td>412</td>\n",
       "      <td>2013.250</td>\n",
       "      <td>18.8</td>\n",
       "      <td>390.96960</td>\n",
       "      <td>7</td>\n",
       "      <td>24.97923</td>\n",
       "      <td>121.53986</td>\n",
       "      <td>40.6</td>\n",
       "    </tr>\n",
       "    <tr>\n",
       "      <th>412</th>\n",
       "      <td>413</td>\n",
       "      <td>2013.000</td>\n",
       "      <td>8.1</td>\n",
       "      <td>104.81010</td>\n",
       "      <td>5</td>\n",
       "      <td>24.96674</td>\n",
       "      <td>121.54067</td>\n",
       "      <td>52.5</td>\n",
       "    </tr>\n",
       "    <tr>\n",
       "      <th>413</th>\n",
       "      <td>414</td>\n",
       "      <td>2013.500</td>\n",
       "      <td>6.5</td>\n",
       "      <td>90.45606</td>\n",
       "      <td>9</td>\n",
       "      <td>24.97433</td>\n",
       "      <td>121.54310</td>\n",
       "      <td>63.9</td>\n",
       "    </tr>\n",
       "  </tbody>\n",
       "</table>\n",
       "<p>414 rows × 8 columns</p>\n",
       "</div>"
      ],
      "text/plain": [
       "      No  X1 transaction date  X2 house age  \\\n",
       "0      1             2012.917          32.0   \n",
       "1      2             2012.917          19.5   \n",
       "2      3             2013.583          13.3   \n",
       "3      4             2013.500          13.3   \n",
       "4      5             2012.833           5.0   \n",
       "..   ...                  ...           ...   \n",
       "409  410             2013.000          13.7   \n",
       "410  411             2012.667           5.6   \n",
       "411  412             2013.250          18.8   \n",
       "412  413             2013.000           8.1   \n",
       "413  414             2013.500           6.5   \n",
       "\n",
       "     X3 distance to the nearest MRT station  X4 number of convenience stores  \\\n",
       "0                                  84.87882                               10   \n",
       "1                                 306.59470                                9   \n",
       "2                                 561.98450                                5   \n",
       "3                                 561.98450                                5   \n",
       "4                                 390.56840                                5   \n",
       "..                                      ...                              ...   \n",
       "409                              4082.01500                                0   \n",
       "410                                90.45606                                9   \n",
       "411                               390.96960                                7   \n",
       "412                               104.81010                                5   \n",
       "413                                90.45606                                9   \n",
       "\n",
       "     X5 latitude  X6 longitude  Y house price of unit area  \n",
       "0       24.98298     121.54024                        37.9  \n",
       "1       24.98034     121.53951                        42.2  \n",
       "2       24.98746     121.54391                        47.3  \n",
       "3       24.98746     121.54391                        54.8  \n",
       "4       24.97937     121.54245                        43.1  \n",
       "..           ...           ...                         ...  \n",
       "409     24.94155     121.50381                        15.4  \n",
       "410     24.97433     121.54310                        50.0  \n",
       "411     24.97923     121.53986                        40.6  \n",
       "412     24.96674     121.54067                        52.5  \n",
       "413     24.97433     121.54310                        63.9  \n",
       "\n",
       "[414 rows x 8 columns]"
      ]
     },
     "execution_count": 3,
     "metadata": {},
     "output_type": "execute_result"
    }
   ],
   "source": [
    "df"
   ]
  },
  {
   "cell_type": "code",
   "execution_count": 4,
   "id": "60dd23f8-0816-41cf-96c5-4e802d011960",
   "metadata": {
    "tags": []
   },
   "outputs": [],
   "source": [
    "#STEP 2: SEPARATING ATTRIBUTE AND FEATURES\n",
    "X=df.drop(['No','Y house price of unit area'], axis=1)#Features and should be at least 2D\n",
    "Y=df['Y house price of unit area']"
   ]
  },
  {
   "cell_type": "code",
   "execution_count": 5,
   "id": "79cdba2d-81aa-429d-a173-08cd0886d1c2",
   "metadata": {
    "tags": []
   },
   "outputs": [
    {
     "data": {
      "text/html": [
       "<div>\n",
       "<style scoped>\n",
       "    .dataframe tbody tr th:only-of-type {\n",
       "        vertical-align: middle;\n",
       "    }\n",
       "\n",
       "    .dataframe tbody tr th {\n",
       "        vertical-align: top;\n",
       "    }\n",
       "\n",
       "    .dataframe thead th {\n",
       "        text-align: right;\n",
       "    }\n",
       "</style>\n",
       "<table border=\"1\" class=\"dataframe\">\n",
       "  <thead>\n",
       "    <tr style=\"text-align: right;\">\n",
       "      <th></th>\n",
       "      <th>X1 transaction date</th>\n",
       "      <th>X2 house age</th>\n",
       "      <th>X3 distance to the nearest MRT station</th>\n",
       "      <th>X4 number of convenience stores</th>\n",
       "      <th>X5 latitude</th>\n",
       "      <th>X6 longitude</th>\n",
       "    </tr>\n",
       "  </thead>\n",
       "  <tbody>\n",
       "    <tr>\n",
       "      <th>0</th>\n",
       "      <td>2012.917</td>\n",
       "      <td>32.0</td>\n",
       "      <td>84.87882</td>\n",
       "      <td>10</td>\n",
       "      <td>24.98298</td>\n",
       "      <td>121.54024</td>\n",
       "    </tr>\n",
       "    <tr>\n",
       "      <th>1</th>\n",
       "      <td>2012.917</td>\n",
       "      <td>19.5</td>\n",
       "      <td>306.59470</td>\n",
       "      <td>9</td>\n",
       "      <td>24.98034</td>\n",
       "      <td>121.53951</td>\n",
       "    </tr>\n",
       "    <tr>\n",
       "      <th>2</th>\n",
       "      <td>2013.583</td>\n",
       "      <td>13.3</td>\n",
       "      <td>561.98450</td>\n",
       "      <td>5</td>\n",
       "      <td>24.98746</td>\n",
       "      <td>121.54391</td>\n",
       "    </tr>\n",
       "    <tr>\n",
       "      <th>3</th>\n",
       "      <td>2013.500</td>\n",
       "      <td>13.3</td>\n",
       "      <td>561.98450</td>\n",
       "      <td>5</td>\n",
       "      <td>24.98746</td>\n",
       "      <td>121.54391</td>\n",
       "    </tr>\n",
       "    <tr>\n",
       "      <th>4</th>\n",
       "      <td>2012.833</td>\n",
       "      <td>5.0</td>\n",
       "      <td>390.56840</td>\n",
       "      <td>5</td>\n",
       "      <td>24.97937</td>\n",
       "      <td>121.54245</td>\n",
       "    </tr>\n",
       "  </tbody>\n",
       "</table>\n",
       "</div>"
      ],
      "text/plain": [
       "   X1 transaction date  X2 house age  X3 distance to the nearest MRT station  \\\n",
       "0             2012.917          32.0                                84.87882   \n",
       "1             2012.917          19.5                               306.59470   \n",
       "2             2013.583          13.3                               561.98450   \n",
       "3             2013.500          13.3                               561.98450   \n",
       "4             2012.833           5.0                               390.56840   \n",
       "\n",
       "   X4 number of convenience stores  X5 latitude  X6 longitude  \n",
       "0                               10     24.98298     121.54024  \n",
       "1                                9     24.98034     121.53951  \n",
       "2                                5     24.98746     121.54391  \n",
       "3                                5     24.98746     121.54391  \n",
       "4                                5     24.97937     121.54245  "
      ]
     },
     "execution_count": 5,
     "metadata": {},
     "output_type": "execute_result"
    }
   ],
   "source": [
    "X.head()"
   ]
  },
  {
   "cell_type": "code",
   "execution_count": 6,
   "id": "df965a8f-3a98-4bb0-9132-1c543da7c547",
   "metadata": {
    "tags": []
   },
   "outputs": [
    {
     "data": {
      "text/plain": [
       "0    37.9\n",
       "1    42.2\n",
       "2    47.3\n",
       "3    54.8\n",
       "4    43.1\n",
       "Name: Y house price of unit area, dtype: float64"
      ]
     },
     "execution_count": 6,
     "metadata": {},
     "output_type": "execute_result"
    }
   ],
   "source": [
    "Y.head()"
   ]
  },
  {
   "cell_type": "code",
   "execution_count": 7,
   "id": "a0bc0404-11a6-4db5-9b26-94d73ffb7ca9",
   "metadata": {
    "tags": []
   },
   "outputs": [],
   "source": [
    "# Backing up data for multiple goals\n",
    "X1=X.copy()\n",
    "Y1=Y.copy()\n",
    "X2=X.copy()\n",
    "Y2=Y.copy()\n",
    "X3=X.copy()\n",
    "Y3=Y.copy()"
   ]
  },
  {
   "cell_type": "markdown",
   "id": "94b2783b-3734-4716-9a63-f29bd1e4612d",
   "metadata": {},
   "source": [
    "# 1. Data Pre-Processing"
   ]
  },
  {
   "cell_type": "code",
   "execution_count": 8,
   "id": "8b3b2a68-3dfc-46f8-8ab7-4f6e06757c59",
   "metadata": {
    "tags": []
   },
   "outputs": [
    {
     "data": {
      "text/html": [
       "<div>\n",
       "<style scoped>\n",
       "    .dataframe tbody tr th:only-of-type {\n",
       "        vertical-align: middle;\n",
       "    }\n",
       "\n",
       "    .dataframe tbody tr th {\n",
       "        vertical-align: top;\n",
       "    }\n",
       "\n",
       "    .dataframe thead th {\n",
       "        text-align: right;\n",
       "    }\n",
       "</style>\n",
       "<table border=\"1\" class=\"dataframe\">\n",
       "  <thead>\n",
       "    <tr style=\"text-align: right;\">\n",
       "      <th></th>\n",
       "      <th>X1 transaction date</th>\n",
       "      <th>X2 house age</th>\n",
       "      <th>X3 distance to the nearest MRT station</th>\n",
       "      <th>X4 number of convenience stores</th>\n",
       "      <th>X5 latitude</th>\n",
       "      <th>X6 longitude</th>\n",
       "    </tr>\n",
       "  </thead>\n",
       "  <tbody>\n",
       "    <tr>\n",
       "      <th>0</th>\n",
       "      <td>-0.822688</td>\n",
       "      <td>1.254111</td>\n",
       "      <td>-0.791537</td>\n",
       "      <td>2.004982</td>\n",
       "      <td>1.124070</td>\n",
       "      <td>0.448220</td>\n",
       "    </tr>\n",
       "    <tr>\n",
       "      <th>1</th>\n",
       "      <td>-0.822688</td>\n",
       "      <td>0.156896</td>\n",
       "      <td>-0.615866</td>\n",
       "      <td>1.665488</td>\n",
       "      <td>0.911342</td>\n",
       "      <td>0.400654</td>\n",
       "    </tr>\n",
       "    <tr>\n",
       "      <th>2</th>\n",
       "      <td>1.539289</td>\n",
       "      <td>-0.387322</td>\n",
       "      <td>-0.413515</td>\n",
       "      <td>0.307513</td>\n",
       "      <td>1.485063</td>\n",
       "      <td>0.687352</td>\n",
       "    </tr>\n",
       "    <tr>\n",
       "      <th>3</th>\n",
       "      <td>1.244928</td>\n",
       "      <td>-0.387322</td>\n",
       "      <td>-0.413515</td>\n",
       "      <td>0.307513</td>\n",
       "      <td>1.485063</td>\n",
       "      <td>0.687352</td>\n",
       "    </tr>\n",
       "    <tr>\n",
       "      <th>4</th>\n",
       "      <td>-1.120595</td>\n",
       "      <td>-1.115873</td>\n",
       "      <td>-0.549332</td>\n",
       "      <td>0.307513</td>\n",
       "      <td>0.833180</td>\n",
       "      <td>0.592220</td>\n",
       "    </tr>\n",
       "  </tbody>\n",
       "</table>\n",
       "</div>"
      ],
      "text/plain": [
       "   X1 transaction date  X2 house age  X3 distance to the nearest MRT station  \\\n",
       "0            -0.822688      1.254111                               -0.791537   \n",
       "1            -0.822688      0.156896                               -0.615866   \n",
       "2             1.539289     -0.387322                               -0.413515   \n",
       "3             1.244928     -0.387322                               -0.413515   \n",
       "4            -1.120595     -1.115873                               -0.549332   \n",
       "\n",
       "   X4 number of convenience stores  X5 latitude  X6 longitude  \n",
       "0                         2.004982     1.124070      0.448220  \n",
       "1                         1.665488     0.911342      0.400654  \n",
       "2                         0.307513     1.485063      0.687352  \n",
       "3                         0.307513     1.485063      0.687352  \n",
       "4                         0.307513     0.833180      0.592220  "
      ]
     },
     "execution_count": 8,
     "metadata": {},
     "output_type": "execute_result"
    }
   ],
   "source": [
    "#Sudocode for Normalization\n",
    "\"\"\"from pandas.core.dtypes.common import is_numeric_dtype\n",
    "for col in X1.columns:\n",
    "    if is_numeric_dtype(X1[col]):\n",
    "        maxval=X1[col].max()\n",
    "        minval=X1[col].min()\n",
    "        def normalizer(n):\n",
    "            stdn=(n-minval)/(maxval-minval)\n",
    "            return stdn\n",
    "        X1[col]=X1[col].apply(normalizer)\n",
    "    else:\n",
    "        continue\n",
    "X1.head()\"\"\"\n",
    "\n",
    "#Sudocode for Standardization\n",
    "from pandas.core.dtypes.common import is_numeric_dtype\n",
    "for col in X1.columns:\n",
    "    if is_numeric_dtype(X1[col]):\n",
    "        meanval=X1[col].mean()\n",
    "        stdvs=X1[col].std()\n",
    "        def standardizer(n):\n",
    "            stdn=(n-meanval)/stdvs\n",
    "            return stdn\n",
    "        X1[col]=X1[col].apply(standardizer)\n",
    "    else:\n",
    "        continue\n",
    "X1.head()"
   ]
  },
  {
   "cell_type": "markdown",
   "id": "698d1050-533e-4072-8ef6-56e8a7b3072f",
   "metadata": {},
   "source": [
    "**TRAIN TEST SPLIT- 70-30**"
   ]
  },
  {
   "cell_type": "code",
   "execution_count": 9,
   "id": "972896be-802d-482d-b7c8-66f9c70b5197",
   "metadata": {
    "tags": []
   },
   "outputs": [],
   "source": [
    "#Step 3: Importing Train Test Split\n",
    "from sklearn.model_selection import train_test_split\n",
    "X1_train, X1_test, Y1_train, Y1_test = train_test_split(X1, Y1, test_size=0.3, random_state=101)"
   ]
  },
  {
   "cell_type": "code",
   "execution_count": 10,
   "id": "e2f3a8c4-e4fb-4c0e-b56a-ab7339d729af",
   "metadata": {
    "tags": []
   },
   "outputs": [
    {
     "data": {
      "text/html": [
       "<div>\n",
       "<style scoped>\n",
       "    .dataframe tbody tr th:only-of-type {\n",
       "        vertical-align: middle;\n",
       "    }\n",
       "\n",
       "    .dataframe tbody tr th {\n",
       "        vertical-align: top;\n",
       "    }\n",
       "\n",
       "    .dataframe thead th {\n",
       "        text-align: right;\n",
       "    }\n",
       "</style>\n",
       "<table border=\"1\" class=\"dataframe\">\n",
       "  <thead>\n",
       "    <tr style=\"text-align: right;\">\n",
       "      <th></th>\n",
       "      <th>X1 transaction date</th>\n",
       "      <th>X2 house age</th>\n",
       "      <th>X3 distance to the nearest MRT station</th>\n",
       "      <th>X4 number of convenience stores</th>\n",
       "      <th>X5 latitude</th>\n",
       "      <th>X6 longitude</th>\n",
       "    </tr>\n",
       "  </thead>\n",
       "  <tbody>\n",
       "    <tr>\n",
       "      <th>266</th>\n",
       "      <td>0.358300</td>\n",
       "      <td>0.007675</td>\n",
       "      <td>0.554068</td>\n",
       "      <td>-0.371475</td>\n",
       "      <td>-0.138602</td>\n",
       "      <td>-1.205504</td>\n",
       "    </tr>\n",
       "    <tr>\n",
       "      <th>298</th>\n",
       "      <td>0.652661</td>\n",
       "      <td>-0.088880</td>\n",
       "      <td>2.375490</td>\n",
       "      <td>-1.389957</td>\n",
       "      <td>-2.214314</td>\n",
       "      <td>-1.925506</td>\n",
       "    </tr>\n",
       "    <tr>\n",
       "      <th>274</th>\n",
       "      <td>0.063940</td>\n",
       "      <td>0.859114</td>\n",
       "      <td>-0.546599</td>\n",
       "      <td>0.986500</td>\n",
       "      <td>0.323921</td>\n",
       "      <td>0.428672</td>\n",
       "    </tr>\n",
       "    <tr>\n",
       "      <th>355</th>\n",
       "      <td>0.358300</td>\n",
       "      <td>-1.221205</td>\n",
       "      <td>-0.554645</td>\n",
       "      <td>0.307513</td>\n",
       "      <td>0.952437</td>\n",
       "      <td>0.687352</td>\n",
       "    </tr>\n",
       "    <tr>\n",
       "      <th>321</th>\n",
       "      <td>-0.822688</td>\n",
       "      <td>-0.071324</td>\n",
       "      <td>-0.094394</td>\n",
       "      <td>-0.031981</td>\n",
       "      <td>1.586593</td>\n",
       "      <td>0.048798</td>\n",
       "    </tr>\n",
       "    <tr>\n",
       "      <th>...</th>\n",
       "      <td>...</td>\n",
       "      <td>...</td>\n",
       "      <td>...</td>\n",
       "      <td>...</td>\n",
       "      <td>...</td>\n",
       "      <td>...</td>\n",
       "    </tr>\n",
       "    <tr>\n",
       "      <th>63</th>\n",
       "      <td>1.539289</td>\n",
       "      <td>-1.326538</td>\n",
       "      <td>-0.436103</td>\n",
       "      <td>-0.031981</td>\n",
       "      <td>0.436732</td>\n",
       "      <td>0.931045</td>\n",
       "    </tr>\n",
       "    <tr>\n",
       "      <th>326</th>\n",
       "      <td>1.244928</td>\n",
       "      <td>-1.194872</td>\n",
       "      <td>-0.814043</td>\n",
       "      <td>0.986500</td>\n",
       "      <td>-0.933915</td>\n",
       "      <td>0.244274</td>\n",
       "    </tr>\n",
       "    <tr>\n",
       "      <th>337</th>\n",
       "      <td>-1.120595</td>\n",
       "      <td>1.192667</td>\n",
       "      <td>-0.382713</td>\n",
       "      <td>0.307513</td>\n",
       "      <td>-0.025791</td>\n",
       "      <td>0.856764</td>\n",
       "    </tr>\n",
       "    <tr>\n",
       "      <th>11</th>\n",
       "      <td>0.652661</td>\n",
       "      <td>-1.001762</td>\n",
       "      <td>-0.787118</td>\n",
       "      <td>1.665488</td>\n",
       "      <td>0.427062</td>\n",
       "      <td>0.634573</td>\n",
       "    </tr>\n",
       "    <tr>\n",
       "      <th>351</th>\n",
       "      <td>-1.120595</td>\n",
       "      <td>-1.203650</td>\n",
       "      <td>0.868672</td>\n",
       "      <td>-0.371475</td>\n",
       "      <td>-0.466558</td>\n",
       "      <td>-1.365142</td>\n",
       "    </tr>\n",
       "  </tbody>\n",
       "</table>\n",
       "<p>289 rows × 6 columns</p>\n",
       "</div>"
      ],
      "text/plain": [
       "     X1 transaction date  X2 house age  \\\n",
       "266             0.358300      0.007675   \n",
       "298             0.652661     -0.088880   \n",
       "274             0.063940      0.859114   \n",
       "355             0.358300     -1.221205   \n",
       "321            -0.822688     -0.071324   \n",
       "..                   ...           ...   \n",
       "63              1.539289     -1.326538   \n",
       "326             1.244928     -1.194872   \n",
       "337            -1.120595      1.192667   \n",
       "11              0.652661     -1.001762   \n",
       "351            -1.120595     -1.203650   \n",
       "\n",
       "     X3 distance to the nearest MRT station  X4 number of convenience stores  \\\n",
       "266                                0.554068                        -0.371475   \n",
       "298                                2.375490                        -1.389957   \n",
       "274                               -0.546599                         0.986500   \n",
       "355                               -0.554645                         0.307513   \n",
       "321                               -0.094394                        -0.031981   \n",
       "..                                      ...                              ...   \n",
       "63                                -0.436103                        -0.031981   \n",
       "326                               -0.814043                         0.986500   \n",
       "337                               -0.382713                         0.307513   \n",
       "11                                -0.787118                         1.665488   \n",
       "351                                0.868672                        -0.371475   \n",
       "\n",
       "     X5 latitude  X6 longitude  \n",
       "266    -0.138602     -1.205504  \n",
       "298    -2.214314     -1.925506  \n",
       "274     0.323921      0.428672  \n",
       "355     0.952437      0.687352  \n",
       "321     1.586593      0.048798  \n",
       "..           ...           ...  \n",
       "63      0.436732      0.931045  \n",
       "326    -0.933915      0.244274  \n",
       "337    -0.025791      0.856764  \n",
       "11      0.427062      0.634573  \n",
       "351    -0.466558     -1.365142  \n",
       "\n",
       "[289 rows x 6 columns]"
      ]
     },
     "execution_count": 10,
     "metadata": {},
     "output_type": "execute_result"
    }
   ],
   "source": [
    "X1_train"
   ]
  },
  {
   "cell_type": "markdown",
   "id": "e83ed162-1cd3-4f1d-aada-24a97154acf2",
   "metadata": {},
   "source": [
    "# 2. Linear regression"
   ]
  },
  {
   "cell_type": "code",
   "execution_count": 11,
   "id": "f6d2356d-b0f7-423d-8048-4965b27ef20e",
   "metadata": {
    "tags": []
   },
   "outputs": [
    {
     "data": {
      "text/html": [
       "<style>#sk-container-id-1 {color: black;background-color: white;}#sk-container-id-1 pre{padding: 0;}#sk-container-id-1 div.sk-toggleable {background-color: white;}#sk-container-id-1 label.sk-toggleable__label {cursor: pointer;display: block;width: 100%;margin-bottom: 0;padding: 0.3em;box-sizing: border-box;text-align: center;}#sk-container-id-1 label.sk-toggleable__label-arrow:before {content: \"▸\";float: left;margin-right: 0.25em;color: #696969;}#sk-container-id-1 label.sk-toggleable__label-arrow:hover:before {color: black;}#sk-container-id-1 div.sk-estimator:hover label.sk-toggleable__label-arrow:before {color: black;}#sk-container-id-1 div.sk-toggleable__content {max-height: 0;max-width: 0;overflow: hidden;text-align: left;background-color: #f0f8ff;}#sk-container-id-1 div.sk-toggleable__content pre {margin: 0.2em;color: black;border-radius: 0.25em;background-color: #f0f8ff;}#sk-container-id-1 input.sk-toggleable__control:checked~div.sk-toggleable__content {max-height: 200px;max-width: 100%;overflow: auto;}#sk-container-id-1 input.sk-toggleable__control:checked~label.sk-toggleable__label-arrow:before {content: \"▾\";}#sk-container-id-1 div.sk-estimator input.sk-toggleable__control:checked~label.sk-toggleable__label {background-color: #d4ebff;}#sk-container-id-1 div.sk-label input.sk-toggleable__control:checked~label.sk-toggleable__label {background-color: #d4ebff;}#sk-container-id-1 input.sk-hidden--visually {border: 0;clip: rect(1px 1px 1px 1px);clip: rect(1px, 1px, 1px, 1px);height: 1px;margin: -1px;overflow: hidden;padding: 0;position: absolute;width: 1px;}#sk-container-id-1 div.sk-estimator {font-family: monospace;background-color: #f0f8ff;border: 1px dotted black;border-radius: 0.25em;box-sizing: border-box;margin-bottom: 0.5em;}#sk-container-id-1 div.sk-estimator:hover {background-color: #d4ebff;}#sk-container-id-1 div.sk-parallel-item::after {content: \"\";width: 100%;border-bottom: 1px solid gray;flex-grow: 1;}#sk-container-id-1 div.sk-label:hover label.sk-toggleable__label {background-color: #d4ebff;}#sk-container-id-1 div.sk-serial::before {content: \"\";position: absolute;border-left: 1px solid gray;box-sizing: border-box;top: 0;bottom: 0;left: 50%;z-index: 0;}#sk-container-id-1 div.sk-serial {display: flex;flex-direction: column;align-items: center;background-color: white;padding-right: 0.2em;padding-left: 0.2em;position: relative;}#sk-container-id-1 div.sk-item {position: relative;z-index: 1;}#sk-container-id-1 div.sk-parallel {display: flex;align-items: stretch;justify-content: center;background-color: white;position: relative;}#sk-container-id-1 div.sk-item::before, #sk-container-id-1 div.sk-parallel-item::before {content: \"\";position: absolute;border-left: 1px solid gray;box-sizing: border-box;top: 0;bottom: 0;left: 50%;z-index: -1;}#sk-container-id-1 div.sk-parallel-item {display: flex;flex-direction: column;z-index: 1;position: relative;background-color: white;}#sk-container-id-1 div.sk-parallel-item:first-child::after {align-self: flex-end;width: 50%;}#sk-container-id-1 div.sk-parallel-item:last-child::after {align-self: flex-start;width: 50%;}#sk-container-id-1 div.sk-parallel-item:only-child::after {width: 0;}#sk-container-id-1 div.sk-dashed-wrapped {border: 1px dashed gray;margin: 0 0.4em 0.5em 0.4em;box-sizing: border-box;padding-bottom: 0.4em;background-color: white;}#sk-container-id-1 div.sk-label label {font-family: monospace;font-weight: bold;display: inline-block;line-height: 1.2em;}#sk-container-id-1 div.sk-label-container {text-align: center;}#sk-container-id-1 div.sk-container {/* jupyter's `normalize.less` sets `[hidden] { display: none; }` but bootstrap.min.css set `[hidden] { display: none !important; }` so we also need the `!important` here to be able to override the default hidden behavior on the sphinx rendered scikit-learn.org. See: https://github.com/scikit-learn/scikit-learn/issues/21755 */display: inline-block !important;position: relative;}#sk-container-id-1 div.sk-text-repr-fallback {display: none;}</style><div id=\"sk-container-id-1\" class=\"sk-top-container\"><div class=\"sk-text-repr-fallback\"><pre>LinearRegression()</pre><b>In a Jupyter environment, please rerun this cell to show the HTML representation or trust the notebook. <br />On GitHub, the HTML representation is unable to render, please try loading this page with nbviewer.org.</b></div><div class=\"sk-container\" hidden><div class=\"sk-item\"><div class=\"sk-estimator sk-toggleable\"><input class=\"sk-toggleable__control sk-hidden--visually\" id=\"sk-estimator-id-1\" type=\"checkbox\" checked><label for=\"sk-estimator-id-1\" class=\"sk-toggleable__label sk-toggleable__label-arrow\">LinearRegression</label><div class=\"sk-toggleable__content\"><pre>LinearRegression()</pre></div></div></div></div></div>"
      ],
      "text/plain": [
       "LinearRegression()"
      ]
     },
     "execution_count": 11,
     "metadata": {},
     "output_type": "execute_result"
    }
   ],
   "source": [
    "#STEP 4: LOADING REGRESSION MODEL AND RUNNING REGRESSION ON TRAINING SET. \n",
    "from sklearn.linear_model import LinearRegression\n",
    "reg_mod=LinearRegression()\n",
    "reg_mod.fit(X1_train,Y1_train)"
   ]
  },
  {
   "cell_type": "code",
   "execution_count": 12,
   "id": "75ebaad8-0e31-4e39-9c6a-708d46e3fb45",
   "metadata": {
    "tags": []
   },
   "outputs": [
    {
     "data": {
      "text/plain": [
       "array([ 1.36451307, -3.1300751 , -5.28648258,  3.47938928,  3.00803702,\n",
       "        0.35911081])"
      ]
     },
     "execution_count": 12,
     "metadata": {},
     "output_type": "execute_result"
    }
   ],
   "source": [
    "reg_mod.coef_"
   ]
  },
  {
   "cell_type": "code",
   "execution_count": 13,
   "id": "3386dc85-167a-4081-b9c1-eb6616363d35",
   "metadata": {
    "tags": []
   },
   "outputs": [
    {
     "data": {
      "text/plain": [
       "38.404808563637275"
      ]
     },
     "execution_count": 13,
     "metadata": {},
     "output_type": "execute_result"
    }
   ],
   "source": [
    "reg_mod.intercept_"
   ]
  },
  {
   "cell_type": "markdown",
   "id": "b779a1b6-74fc-4037-b713-95e7d722dcfb",
   "metadata": {},
   "source": [
    "# Regression Equation:"
   ]
  },
  {
   "cell_type": "markdown",
   "id": "07896e0c-f115-474c-a497-f72338b61be4",
   "metadata": {
    "tags": []
   },
   "source": [
    "**Y=38.4048+1.36451307 X1-3.1300751 X2-5.28648258 X3 +3.47938928 X4 + 3.00803702 X5 + 0.35911081 X6**"
   ]
  },
  {
   "cell_type": "code",
   "execution_count": 14,
   "id": "fde96493-d33c-488f-b637-95d68296d38a",
   "metadata": {
    "tags": []
   },
   "outputs": [
    {
     "data": {
      "text/plain": [
       "array([12.63830383, 10.0304461 , 22.98807375, 48.50264837, 32.67140451,\n",
       "       37.82572669, 36.09178068, 41.05953639, 47.84830793, 40.4574746 ,\n",
       "       45.0361603 , 32.86533457, 40.48623576, 36.48827849, 44.30595729,\n",
       "       46.59668235, 38.42798244, 44.26307337, 48.81959723, 45.50409246,\n",
       "       42.23260833, 54.6526397 , 48.07373298, 37.48194231, 33.57091525,\n",
       "       48.26293154, 40.23479801, 50.42675437, 47.22333423, 38.99458517,\n",
       "       48.11033139, 40.47035604, 45.61060308, 43.98441528, 46.54336092,\n",
       "        8.18725886, 38.08375879, 39.82608171,  8.5339677 , 55.72740213,\n",
       "       32.17950939, 49.72698264, 24.85604948, 47.64473233, 41.23026871,\n",
       "       51.17703175, 42.04716292, 37.32689765, 44.24427856, 36.27028988,\n",
       "       47.55408451, 34.74054504, 43.53329366, 15.95586215, 38.29001222,\n",
       "       48.93912385, 44.69790471, 44.91934627, 45.33972278, 41.33035787,\n",
       "       34.39899173, 44.02303164, 41.99940522, 43.9553153 , 53.61420366,\n",
       "       44.24994361, 24.68926603, 47.06140631, 31.22031534, 40.4930635 ,\n",
       "       43.12220556, 48.76235412, 15.60855454, 35.80561434, 12.76370021,\n",
       "       42.89308611, 34.43839965, 45.9734211 , 44.1928161 , 12.0736566 ,\n",
       "       47.42677323, 38.74415932, 43.93495232, 26.95553667, 52.50729872,\n",
       "       15.98006429, 36.58145675, 30.87406656, 37.39582323, 12.93036536,\n",
       "       46.2014402 , 33.2425385 , 43.07876464, 24.18055926, 32.0791477 ,\n",
       "       31.94846605, 24.19775376, 44.7578954 , 30.27124305, 37.5875205 ,\n",
       "       46.27784489, 29.81168651, 38.76038694, 39.44063357, 48.40808813,\n",
       "       28.84884665, 26.98522519, 31.25467948, 33.80668812, 40.09617228,\n",
       "       46.6934425 , 44.73762204, 49.07685066, 34.5789675 , 45.82241719,\n",
       "       41.27851262, 42.7603896 , 47.44181001, 40.32886602, 45.4942412 ,\n",
       "       51.62507832, 41.31454145, 30.37857322, 16.0075392 , 35.30473459])"
      ]
     },
     "execution_count": 14,
     "metadata": {},
     "output_type": "execute_result"
    }
   ],
   "source": [
    "pred=reg_mod.predict(X1_test)\n",
    "pred"
   ]
  },
  {
   "cell_type": "code",
   "execution_count": 15,
   "id": "d9a242d6-a66a-4e49-bd07-aa169a736f4b",
   "metadata": {
    "tags": []
   },
   "outputs": [
    {
     "data": {
      "text/plain": [
       "176    19.2\n",
       "347    11.2\n",
       "307    24.7\n",
       "299    46.1\n",
       "391    31.3\n",
       "       ... \n",
       "16     70.1\n",
       "31     25.0\n",
       "36     22.9\n",
       "41     18.2\n",
       "24     38.8\n",
       "Name: Y house price of unit area, Length: 125, dtype: float64"
      ]
     },
     "execution_count": 15,
     "metadata": {},
     "output_type": "execute_result"
    }
   ],
   "source": [
    "Y1_test"
   ]
  },
  {
   "cell_type": "code",
   "execution_count": 16,
   "id": "6b168678-fdfd-4a0c-b0b8-49051ab0a9df",
   "metadata": {
    "tags": []
   },
   "outputs": [],
   "source": [
    "# Step 5 Checking Model Performance\n",
    "from sklearn.metrics import r2_score\n",
    "from sklearn.metrics import mean_absolute_error,mean_squared_error"
   ]
  },
  {
   "cell_type": "code",
   "execution_count": 17,
   "id": "5299cd58-0fce-4afb-b5d0-fdb9ed839084",
   "metadata": {
    "tags": []
   },
   "outputs": [
    {
     "data": {
      "text/plain": [
       "46.21179783494892"
      ]
     },
     "execution_count": 17,
     "metadata": {},
     "output_type": "execute_result"
    }
   ],
   "source": [
    "MSE=mean_squared_error(Y1_test, pred)\n",
    "MSE"
   ]
  },
  {
   "cell_type": "code",
   "execution_count": 18,
   "id": "bdc95112-0c22-47ce-b552-ee96af3a7dcf",
   "metadata": {
    "tags": []
   },
   "outputs": [
    {
     "data": {
      "text/plain": [
       "0.650905847998566"
      ]
     },
     "execution_count": 18,
     "metadata": {},
     "output_type": "execute_result"
    }
   ],
   "source": [
    "R2_val=r2_score(Y1_test, pred)\n",
    "R2_val"
   ]
  },
  {
   "cell_type": "markdown",
   "id": "7ee74c48-bc17-4939-9f10-f7c0da5ef628",
   "metadata": {},
   "source": [
    "# 3. Linear regression without Scaling"
   ]
  },
  {
   "cell_type": "code",
   "execution_count": 19,
   "id": "9b100922-2900-4656-8667-89f4740695af",
   "metadata": {
    "tags": []
   },
   "outputs": [
    {
     "data": {
      "text/html": [
       "<div>\n",
       "<style scoped>\n",
       "    .dataframe tbody tr th:only-of-type {\n",
       "        vertical-align: middle;\n",
       "    }\n",
       "\n",
       "    .dataframe tbody tr th {\n",
       "        vertical-align: top;\n",
       "    }\n",
       "\n",
       "    .dataframe thead th {\n",
       "        text-align: right;\n",
       "    }\n",
       "</style>\n",
       "<table border=\"1\" class=\"dataframe\">\n",
       "  <thead>\n",
       "    <tr style=\"text-align: right;\">\n",
       "      <th></th>\n",
       "      <th>X1 transaction date</th>\n",
       "      <th>X2 house age</th>\n",
       "      <th>X3 distance to the nearest MRT station</th>\n",
       "      <th>X4 number of convenience stores</th>\n",
       "      <th>X5 latitude</th>\n",
       "      <th>X6 longitude</th>\n",
       "    </tr>\n",
       "  </thead>\n",
       "  <tbody>\n",
       "    <tr>\n",
       "      <th>0</th>\n",
       "      <td>2012.917</td>\n",
       "      <td>32.0</td>\n",
       "      <td>84.87882</td>\n",
       "      <td>10</td>\n",
       "      <td>24.98298</td>\n",
       "      <td>121.54024</td>\n",
       "    </tr>\n",
       "    <tr>\n",
       "      <th>1</th>\n",
       "      <td>2012.917</td>\n",
       "      <td>19.5</td>\n",
       "      <td>306.59470</td>\n",
       "      <td>9</td>\n",
       "      <td>24.98034</td>\n",
       "      <td>121.53951</td>\n",
       "    </tr>\n",
       "    <tr>\n",
       "      <th>2</th>\n",
       "      <td>2013.583</td>\n",
       "      <td>13.3</td>\n",
       "      <td>561.98450</td>\n",
       "      <td>5</td>\n",
       "      <td>24.98746</td>\n",
       "      <td>121.54391</td>\n",
       "    </tr>\n",
       "    <tr>\n",
       "      <th>3</th>\n",
       "      <td>2013.500</td>\n",
       "      <td>13.3</td>\n",
       "      <td>561.98450</td>\n",
       "      <td>5</td>\n",
       "      <td>24.98746</td>\n",
       "      <td>121.54391</td>\n",
       "    </tr>\n",
       "    <tr>\n",
       "      <th>4</th>\n",
       "      <td>2012.833</td>\n",
       "      <td>5.0</td>\n",
       "      <td>390.56840</td>\n",
       "      <td>5</td>\n",
       "      <td>24.97937</td>\n",
       "      <td>121.54245</td>\n",
       "    </tr>\n",
       "  </tbody>\n",
       "</table>\n",
       "</div>"
      ],
      "text/plain": [
       "   X1 transaction date  X2 house age  X3 distance to the nearest MRT station  \\\n",
       "0             2012.917          32.0                                84.87882   \n",
       "1             2012.917          19.5                               306.59470   \n",
       "2             2013.583          13.3                               561.98450   \n",
       "3             2013.500          13.3                               561.98450   \n",
       "4             2012.833           5.0                               390.56840   \n",
       "\n",
       "   X4 number of convenience stores  X5 latitude  X6 longitude  \n",
       "0                               10     24.98298     121.54024  \n",
       "1                                9     24.98034     121.53951  \n",
       "2                                5     24.98746     121.54391  \n",
       "3                                5     24.98746     121.54391  \n",
       "4                                5     24.97937     121.54245  "
      ]
     },
     "execution_count": 19,
     "metadata": {},
     "output_type": "execute_result"
    }
   ],
   "source": [
    "X2.head()"
   ]
  },
  {
   "cell_type": "code",
   "execution_count": 20,
   "id": "bdda872b-0910-4d7f-97c0-c75db28ed423",
   "metadata": {
    "tags": []
   },
   "outputs": [
    {
     "data": {
      "text/plain": [
       "0      37.9\n",
       "1      42.2\n",
       "2      47.3\n",
       "3      54.8\n",
       "4      43.1\n",
       "       ... \n",
       "409    15.4\n",
       "410    50.0\n",
       "411    40.6\n",
       "412    52.5\n",
       "413    63.9\n",
       "Name: Y house price of unit area, Length: 414, dtype: float64"
      ]
     },
     "execution_count": 20,
     "metadata": {},
     "output_type": "execute_result"
    }
   ],
   "source": [
    "Y2"
   ]
  },
  {
   "cell_type": "code",
   "execution_count": 21,
   "id": "dce4f6ee-ea6e-406a-b009-2cc2fcb47ca9",
   "metadata": {
    "tags": []
   },
   "outputs": [],
   "source": [
    "from sklearn.model_selection import train_test_split\n",
    "X2_train, X2_test, Y2_train, Y2_test = train_test_split(X2, Y2, test_size=0.3, random_state=101)"
   ]
  },
  {
   "cell_type": "code",
   "execution_count": 22,
   "id": "d9c47c1b-d8cd-4b6d-b401-4d36f76d47e9",
   "metadata": {
    "tags": []
   },
   "outputs": [
    {
     "data": {
      "text/html": [
       "<div>\n",
       "<style scoped>\n",
       "    .dataframe tbody tr th:only-of-type {\n",
       "        vertical-align: middle;\n",
       "    }\n",
       "\n",
       "    .dataframe tbody tr th {\n",
       "        vertical-align: top;\n",
       "    }\n",
       "\n",
       "    .dataframe thead th {\n",
       "        text-align: right;\n",
       "    }\n",
       "</style>\n",
       "<table border=\"1\" class=\"dataframe\">\n",
       "  <thead>\n",
       "    <tr style=\"text-align: right;\">\n",
       "      <th></th>\n",
       "      <th>X1 transaction date</th>\n",
       "      <th>X2 house age</th>\n",
       "      <th>X3 distance to the nearest MRT station</th>\n",
       "      <th>X4 number of convenience stores</th>\n",
       "      <th>X5 latitude</th>\n",
       "      <th>X6 longitude</th>\n",
       "    </tr>\n",
       "  </thead>\n",
       "  <tbody>\n",
       "    <tr>\n",
       "      <th>266</th>\n",
       "      <td>2013.250</td>\n",
       "      <td>17.8</td>\n",
       "      <td>1783.1800</td>\n",
       "      <td>3</td>\n",
       "      <td>24.96731</td>\n",
       "      <td>121.51486</td>\n",
       "    </tr>\n",
       "    <tr>\n",
       "      <th>298</th>\n",
       "      <td>2013.333</td>\n",
       "      <td>16.7</td>\n",
       "      <td>4082.0150</td>\n",
       "      <td>0</td>\n",
       "      <td>24.94155</td>\n",
       "      <td>121.50381</td>\n",
       "    </tr>\n",
       "    <tr>\n",
       "      <th>274</th>\n",
       "      <td>2013.167</td>\n",
       "      <td>27.5</td>\n",
       "      <td>394.0173</td>\n",
       "      <td>7</td>\n",
       "      <td>24.97305</td>\n",
       "      <td>121.53994</td>\n",
       "    </tr>\n",
       "    <tr>\n",
       "      <th>355</th>\n",
       "      <td>2013.250</td>\n",
       "      <td>3.8</td>\n",
       "      <td>383.8624</td>\n",
       "      <td>5</td>\n",
       "      <td>24.98085</td>\n",
       "      <td>121.54391</td>\n",
       "    </tr>\n",
       "    <tr>\n",
       "      <th>321</th>\n",
       "      <td>2012.917</td>\n",
       "      <td>16.9</td>\n",
       "      <td>964.7496</td>\n",
       "      <td>4</td>\n",
       "      <td>24.98872</td>\n",
       "      <td>121.53411</td>\n",
       "    </tr>\n",
       "  </tbody>\n",
       "</table>\n",
       "</div>"
      ],
      "text/plain": [
       "     X1 transaction date  X2 house age  \\\n",
       "266             2013.250          17.8   \n",
       "298             2013.333          16.7   \n",
       "274             2013.167          27.5   \n",
       "355             2013.250           3.8   \n",
       "321             2012.917          16.9   \n",
       "\n",
       "     X3 distance to the nearest MRT station  X4 number of convenience stores  \\\n",
       "266                               1783.1800                                3   \n",
       "298                               4082.0150                                0   \n",
       "274                                394.0173                                7   \n",
       "355                                383.8624                                5   \n",
       "321                                964.7496                                4   \n",
       "\n",
       "     X5 latitude  X6 longitude  \n",
       "266     24.96731     121.51486  \n",
       "298     24.94155     121.50381  \n",
       "274     24.97305     121.53994  \n",
       "355     24.98085     121.54391  \n",
       "321     24.98872     121.53411  "
      ]
     },
     "execution_count": 22,
     "metadata": {},
     "output_type": "execute_result"
    }
   ],
   "source": [
    "X2_train.head()"
   ]
  },
  {
   "cell_type": "code",
   "execution_count": 23,
   "id": "b02d3bff-4e78-48c1-95bc-14e210af5a54",
   "metadata": {
    "tags": []
   },
   "outputs": [
    {
     "data": {
      "text/plain": [
       "266    23.7\n",
       "298    16.7\n",
       "274    41.0\n",
       "355    60.7\n",
       "321    37.7\n",
       "Name: Y house price of unit area, dtype: float64"
      ]
     },
     "execution_count": 23,
     "metadata": {},
     "output_type": "execute_result"
    }
   ],
   "source": [
    "Y2_train.head()"
   ]
  },
  {
   "cell_type": "code",
   "execution_count": 24,
   "id": "5c4df2fc-746c-46e0-8bfa-78ed9799bb09",
   "metadata": {
    "tags": []
   },
   "outputs": [
    {
     "data": {
      "text/html": [
       "<style>#sk-container-id-2 {color: black;background-color: white;}#sk-container-id-2 pre{padding: 0;}#sk-container-id-2 div.sk-toggleable {background-color: white;}#sk-container-id-2 label.sk-toggleable__label {cursor: pointer;display: block;width: 100%;margin-bottom: 0;padding: 0.3em;box-sizing: border-box;text-align: center;}#sk-container-id-2 label.sk-toggleable__label-arrow:before {content: \"▸\";float: left;margin-right: 0.25em;color: #696969;}#sk-container-id-2 label.sk-toggleable__label-arrow:hover:before {color: black;}#sk-container-id-2 div.sk-estimator:hover label.sk-toggleable__label-arrow:before {color: black;}#sk-container-id-2 div.sk-toggleable__content {max-height: 0;max-width: 0;overflow: hidden;text-align: left;background-color: #f0f8ff;}#sk-container-id-2 div.sk-toggleable__content pre {margin: 0.2em;color: black;border-radius: 0.25em;background-color: #f0f8ff;}#sk-container-id-2 input.sk-toggleable__control:checked~div.sk-toggleable__content {max-height: 200px;max-width: 100%;overflow: auto;}#sk-container-id-2 input.sk-toggleable__control:checked~label.sk-toggleable__label-arrow:before {content: \"▾\";}#sk-container-id-2 div.sk-estimator input.sk-toggleable__control:checked~label.sk-toggleable__label {background-color: #d4ebff;}#sk-container-id-2 div.sk-label input.sk-toggleable__control:checked~label.sk-toggleable__label {background-color: #d4ebff;}#sk-container-id-2 input.sk-hidden--visually {border: 0;clip: rect(1px 1px 1px 1px);clip: rect(1px, 1px, 1px, 1px);height: 1px;margin: -1px;overflow: hidden;padding: 0;position: absolute;width: 1px;}#sk-container-id-2 div.sk-estimator {font-family: monospace;background-color: #f0f8ff;border: 1px dotted black;border-radius: 0.25em;box-sizing: border-box;margin-bottom: 0.5em;}#sk-container-id-2 div.sk-estimator:hover {background-color: #d4ebff;}#sk-container-id-2 div.sk-parallel-item::after {content: \"\";width: 100%;border-bottom: 1px solid gray;flex-grow: 1;}#sk-container-id-2 div.sk-label:hover label.sk-toggleable__label {background-color: #d4ebff;}#sk-container-id-2 div.sk-serial::before {content: \"\";position: absolute;border-left: 1px solid gray;box-sizing: border-box;top: 0;bottom: 0;left: 50%;z-index: 0;}#sk-container-id-2 div.sk-serial {display: flex;flex-direction: column;align-items: center;background-color: white;padding-right: 0.2em;padding-left: 0.2em;position: relative;}#sk-container-id-2 div.sk-item {position: relative;z-index: 1;}#sk-container-id-2 div.sk-parallel {display: flex;align-items: stretch;justify-content: center;background-color: white;position: relative;}#sk-container-id-2 div.sk-item::before, #sk-container-id-2 div.sk-parallel-item::before {content: \"\";position: absolute;border-left: 1px solid gray;box-sizing: border-box;top: 0;bottom: 0;left: 50%;z-index: -1;}#sk-container-id-2 div.sk-parallel-item {display: flex;flex-direction: column;z-index: 1;position: relative;background-color: white;}#sk-container-id-2 div.sk-parallel-item:first-child::after {align-self: flex-end;width: 50%;}#sk-container-id-2 div.sk-parallel-item:last-child::after {align-self: flex-start;width: 50%;}#sk-container-id-2 div.sk-parallel-item:only-child::after {width: 0;}#sk-container-id-2 div.sk-dashed-wrapped {border: 1px dashed gray;margin: 0 0.4em 0.5em 0.4em;box-sizing: border-box;padding-bottom: 0.4em;background-color: white;}#sk-container-id-2 div.sk-label label {font-family: monospace;font-weight: bold;display: inline-block;line-height: 1.2em;}#sk-container-id-2 div.sk-label-container {text-align: center;}#sk-container-id-2 div.sk-container {/* jupyter's `normalize.less` sets `[hidden] { display: none; }` but bootstrap.min.css set `[hidden] { display: none !important; }` so we also need the `!important` here to be able to override the default hidden behavior on the sphinx rendered scikit-learn.org. See: https://github.com/scikit-learn/scikit-learn/issues/21755 */display: inline-block !important;position: relative;}#sk-container-id-2 div.sk-text-repr-fallback {display: none;}</style><div id=\"sk-container-id-2\" class=\"sk-top-container\"><div class=\"sk-text-repr-fallback\"><pre>LinearRegression()</pre><b>In a Jupyter environment, please rerun this cell to show the HTML representation or trust the notebook. <br />On GitHub, the HTML representation is unable to render, please try loading this page with nbviewer.org.</b></div><div class=\"sk-container\" hidden><div class=\"sk-item\"><div class=\"sk-estimator sk-toggleable\"><input class=\"sk-toggleable__control sk-hidden--visually\" id=\"sk-estimator-id-2\" type=\"checkbox\" checked><label for=\"sk-estimator-id-2\" class=\"sk-toggleable__label sk-toggleable__label-arrow\">LinearRegression</label><div class=\"sk-toggleable__content\"><pre>LinearRegression()</pre></div></div></div></div></div>"
      ],
      "text/plain": [
       "LinearRegression()"
      ]
     },
     "execution_count": 24,
     "metadata": {},
     "output_type": "execute_result"
    }
   ],
   "source": [
    "from sklearn.linear_model import LinearRegression\n",
    "us_reg_mod=LinearRegression()\n",
    "us_reg_mod.fit(X2_train,Y2_train)"
   ]
  },
  {
   "cell_type": "code",
   "execution_count": 25,
   "id": "cd34b9b6-9e32-475d-8886-45f7db94f648",
   "metadata": {
    "tags": []
   },
   "outputs": [
    {
     "data": {
      "text/plain": [
       "array([12.63830383, 10.0304461 , 22.98807375, 48.50264837, 32.67140451,\n",
       "       37.82572669, 36.09178068, 41.05953639, 47.84830793, 40.4574746 ,\n",
       "       45.0361603 , 32.86533457, 40.48623576, 36.48827849, 44.30595729,\n",
       "       46.59668235, 38.42798244, 44.26307337, 48.81959723, 45.50409246,\n",
       "       42.23260833, 54.6526397 , 48.07373298, 37.48194231, 33.57091525,\n",
       "       48.26293154, 40.23479801, 50.42675437, 47.22333423, 38.99458517,\n",
       "       48.11033139, 40.47035604, 45.61060308, 43.98441528, 46.54336092,\n",
       "        8.18725886, 38.08375879, 39.82608171,  8.5339677 , 55.72740213,\n",
       "       32.17950939, 49.72698264, 24.85604948, 47.64473233, 41.23026871,\n",
       "       51.17703175, 42.04716292, 37.32689765, 44.24427856, 36.27028988,\n",
       "       47.55408451, 34.74054504, 43.53329366, 15.95586215, 38.29001222,\n",
       "       48.93912385, 44.69790471, 44.91934627, 45.33972278, 41.33035787,\n",
       "       34.39899173, 44.02303164, 41.99940522, 43.9553153 , 53.61420366,\n",
       "       44.24994361, 24.68926603, 47.06140631, 31.22031534, 40.4930635 ,\n",
       "       43.12220556, 48.76235412, 15.60855454, 35.80561434, 12.76370021,\n",
       "       42.89308611, 34.43839965, 45.9734211 , 44.1928161 , 12.0736566 ,\n",
       "       47.42677323, 38.74415932, 43.93495232, 26.95553667, 52.50729872,\n",
       "       15.98006429, 36.58145675, 30.87406656, 37.39582323, 12.93036536,\n",
       "       46.2014402 , 33.2425385 , 43.07876464, 24.18055926, 32.0791477 ,\n",
       "       31.94846605, 24.19775376, 44.7578954 , 30.27124305, 37.5875205 ,\n",
       "       46.27784489, 29.81168651, 38.76038694, 39.44063357, 48.40808813,\n",
       "       28.84884665, 26.98522519, 31.25467948, 33.80668812, 40.09617228,\n",
       "       46.6934425 , 44.73762204, 49.07685066, 34.5789675 , 45.82241719,\n",
       "       41.27851262, 42.7603896 , 47.44181001, 40.32886602, 45.4942412 ,\n",
       "       51.62507832, 41.31454145, 30.37857322, 16.0075392 , 35.30473459])"
      ]
     },
     "execution_count": 25,
     "metadata": {},
     "output_type": "execute_result"
    }
   ],
   "source": [
    "uspred=us_reg_mod.predict(X2_test)\n",
    "uspred"
   ]
  },
  {
   "cell_type": "code",
   "execution_count": 26,
   "id": "42752609-6d05-4915-b6c9-a036506dc199",
   "metadata": {
    "tags": []
   },
   "outputs": [
    {
     "data": {
      "text/plain": [
       "176    19.2\n",
       "347    11.2\n",
       "307    24.7\n",
       "299    46.1\n",
       "391    31.3\n",
       "       ... \n",
       "16     70.1\n",
       "31     25.0\n",
       "36     22.9\n",
       "41     18.2\n",
       "24     38.8\n",
       "Name: Y house price of unit area, Length: 125, dtype: float64"
      ]
     },
     "execution_count": 26,
     "metadata": {},
     "output_type": "execute_result"
    }
   ],
   "source": [
    "Y2_test"
   ]
  },
  {
   "cell_type": "code",
   "execution_count": 27,
   "id": "daec40c1-914e-45d9-895b-e0183f67992f",
   "metadata": {
    "tags": []
   },
   "outputs": [],
   "source": [
    "from sklearn.metrics import r2_score\n",
    "from sklearn.metrics import mean_absolute_error,mean_squared_error\n",
    "usMSE=mean_squared_error(Y2_test, uspred)\n",
    "usR2=r2_score(Y2_test, uspred)"
   ]
  },
  {
   "cell_type": "code",
   "execution_count": 28,
   "id": "acfbbc5c-f9ea-4dd7-a986-a526f1d1df79",
   "metadata": {
    "tags": []
   },
   "outputs": [
    {
     "data": {
      "text/plain": [
       "46.2117978349365"
      ]
     },
     "execution_count": 28,
     "metadata": {},
     "output_type": "execute_result"
    }
   ],
   "source": [
    "usMSE"
   ]
  },
  {
   "cell_type": "code",
   "execution_count": 29,
   "id": "85b41c42-694b-4539-8962-f16da28d1d3f",
   "metadata": {
    "tags": []
   },
   "outputs": [
    {
     "data": {
      "text/plain": [
       "0.6509058479986598"
      ]
     },
     "execution_count": 29,
     "metadata": {},
     "output_type": "execute_result"
    }
   ],
   "source": [
    "usR2"
   ]
  },
  {
   "cell_type": "code",
   "execution_count": 30,
   "id": "628027f1-e2ea-4b72-821d-121f264842d8",
   "metadata": {
    "tags": []
   },
   "outputs": [
    {
     "data": {
      "text/plain": [
       "1.2420287021086551e-11"
      ]
     },
     "execution_count": 30,
     "metadata": {},
     "output_type": "execute_result"
    }
   ],
   "source": [
    "MSE-usMSE"
   ]
  },
  {
   "cell_type": "code",
   "execution_count": 31,
   "id": "23b4d448-086b-4674-b2bf-6557b27a8f4c",
   "metadata": {
    "tags": []
   },
   "outputs": [
    {
     "data": {
      "text/plain": [
       "-9.381384558082573e-14"
      ]
     },
     "execution_count": 31,
     "metadata": {},
     "output_type": "execute_result"
    }
   ],
   "source": [
    "R2_val-usR2"
   ]
  },
  {
   "cell_type": "markdown",
   "id": "3775a876-3f42-491e-8806-44b46132f526",
   "metadata": {
    "tags": []
   },
   "source": [
    "**Scaling worsen results a little bit**"
   ]
  },
  {
   "cell_type": "markdown",
   "id": "c314d88c-af93-43d1-8a91-067c2550b543",
   "metadata": {},
   "source": [
    "# 4. Visualization via Scatterplot"
   ]
  },
  {
   "cell_type": "code",
   "execution_count": null,
   "id": "ed691eb9-2a51-4ccc-a903-e2f667920219",
   "metadata": {},
   "outputs": [],
   "source": []
  },
  {
   "cell_type": "code",
   "execution_count": 32,
   "id": "d75a0515-282f-4492-b435-99470b903096",
   "metadata": {
    "tags": []
   },
   "outputs": [
    {
     "data": {
      "image/png": "[encoded data removed]",
      "text/plain": [
       "<Figure size 640x480 with 1 Axes>"
      ]
     },
     "metadata": {},
     "output_type": "display_data"
    },
    {
     "data": {
      "image/png": "[encoded data removed]",
      "text/plain": [
       "<Figure size 640x480 with 1 Axes>"
      ]
     },
     "metadata": {},
     "output_type": "display_data"
    },
    {
     "data": {
      "image/png": "[encoded data removed]",
      "text/plain": [
       "<Figure size 640x480 with 1 Axes>"
      ]
     },
     "metadata": {},
     "output_type": "display_data"
    },
    {
     "data": {
      "image/png": "[encoded data removed]",
      "text/plain": [
       "<Figure size 640x480 with 1 Axes>"
      ]
     },
     "metadata": {},
     "output_type": "display_data"
    },
    {
     "data": {
      "image/png": "[encoded data removed]",
      "text/plain": [
       "<Figure size 640x480 with 1 Axes>"
      ]
     },
     "metadata": {},
     "output_type": "display_data"
    },
    {
     "data": {
      "image/png": "[encoded data removed]",
      "text/plain": [
       "<Figure size 640x480 with 1 Axes>"
      ]
     },
     "metadata": {},
     "output_type": "display_data"
    }
   ],
   "source": [
    "import random\n",
    "colset=[\"red\",\"green\",\"blue\",\"pink\",\"black\",\"orange\",\"purple\",\"brown\",\"cyan\",\"magenta\"]\n",
    "for feature in X3.columns:\n",
    "    plt.scatter(x=X3.loc[:,feature],y=Y3,marker='o', s=1, c=random.choice(colset))\n",
    "    plt.xlabel(feature)\n",
    "    plt.ylabel('House price of unit area')\n",
    "    plt.title('House Price vs Variables')\n",
    "    plt.show()"
   ]
  },
  {
   "cell_type": "markdown",
   "id": "8c47fcff-9026-449f-ba6d-e5aef1d2f7e2",
   "metadata": {},
   "source": [
    "**Comments on Visualization**\n",
    "\n",
    "1. House price per unit area flactuated a little over the time period\n",
    "2. House price per unit area as seen from the figure decreased as age of a house increased\n",
    "3. The nearer a house is to a MRT station, the higher the per unit price of the house\n",
    "4. The price per unit area of house also increases as noumber of nearby convenience store increases\n",
    "5. Longitude and Latitude value although considered in this model, in practical scenario is of less or no importance."
   ]
  },
  {
   "cell_type": "markdown",
   "id": "f73cee7b-7312-4bad-9980-7cb7586337a3",
   "metadata": {},
   "source": [
    "# 5 Min-Max scaling and Regression"
   ]
  },
  {
   "cell_type": "code",
   "execution_count": 33,
   "id": "34976ebf-2750-4abd-9a21-6bf3456856b4",
   "metadata": {
    "tags": []
   },
   "outputs": [
    {
     "data": {
      "text/html": [
       "<div>\n",
       "<style scoped>\n",
       "    .dataframe tbody tr th:only-of-type {\n",
       "        vertical-align: middle;\n",
       "    }\n",
       "\n",
       "    .dataframe tbody tr th {\n",
       "        vertical-align: top;\n",
       "    }\n",
       "\n",
       "    .dataframe thead th {\n",
       "        text-align: right;\n",
       "    }\n",
       "</style>\n",
       "<table border=\"1\" class=\"dataframe\">\n",
       "  <thead>\n",
       "    <tr style=\"text-align: right;\">\n",
       "      <th></th>\n",
       "      <th>X1 transaction date</th>\n",
       "      <th>X2 house age</th>\n",
       "      <th>X3 distance to the nearest MRT station</th>\n",
       "      <th>X4 number of convenience stores</th>\n",
       "      <th>X5 latitude</th>\n",
       "      <th>X6 longitude</th>\n",
       "    </tr>\n",
       "  </thead>\n",
       "  <tbody>\n",
       "    <tr>\n",
       "      <th>0</th>\n",
       "      <td>2012.917</td>\n",
       "      <td>32.0</td>\n",
       "      <td>84.87882</td>\n",
       "      <td>10</td>\n",
       "      <td>24.98298</td>\n",
       "      <td>121.54024</td>\n",
       "    </tr>\n",
       "    <tr>\n",
       "      <th>1</th>\n",
       "      <td>2012.917</td>\n",
       "      <td>19.5</td>\n",
       "      <td>306.59470</td>\n",
       "      <td>9</td>\n",
       "      <td>24.98034</td>\n",
       "      <td>121.53951</td>\n",
       "    </tr>\n",
       "    <tr>\n",
       "      <th>2</th>\n",
       "      <td>2013.583</td>\n",
       "      <td>13.3</td>\n",
       "      <td>561.98450</td>\n",
       "      <td>5</td>\n",
       "      <td>24.98746</td>\n",
       "      <td>121.54391</td>\n",
       "    </tr>\n",
       "    <tr>\n",
       "      <th>3</th>\n",
       "      <td>2013.500</td>\n",
       "      <td>13.3</td>\n",
       "      <td>561.98450</td>\n",
       "      <td>5</td>\n",
       "      <td>24.98746</td>\n",
       "      <td>121.54391</td>\n",
       "    </tr>\n",
       "    <tr>\n",
       "      <th>4</th>\n",
       "      <td>2012.833</td>\n",
       "      <td>5.0</td>\n",
       "      <td>390.56840</td>\n",
       "      <td>5</td>\n",
       "      <td>24.97937</td>\n",
       "      <td>121.54245</td>\n",
       "    </tr>\n",
       "  </tbody>\n",
       "</table>\n",
       "</div>"
      ],
      "text/plain": [
       "   X1 transaction date  X2 house age  X3 distance to the nearest MRT station  \\\n",
       "0             2012.917          32.0                                84.87882   \n",
       "1             2012.917          19.5                               306.59470   \n",
       "2             2013.583          13.3                               561.98450   \n",
       "3             2013.500          13.3                               561.98450   \n",
       "4             2012.833           5.0                               390.56840   \n",
       "\n",
       "   X4 number of convenience stores  X5 latitude  X6 longitude  \n",
       "0                               10     24.98298     121.54024  \n",
       "1                                9     24.98034     121.53951  \n",
       "2                                5     24.98746     121.54391  \n",
       "3                                5     24.98746     121.54391  \n",
       "4                                5     24.97937     121.54245  "
      ]
     },
     "execution_count": 33,
     "metadata": {},
     "output_type": "execute_result"
    }
   ],
   "source": [
    "X3.head()"
   ]
  },
  {
   "cell_type": "code",
   "execution_count": 34,
   "id": "9ce2ccdb-e0ba-464c-b9b5-389597a42527",
   "metadata": {
    "tags": []
   },
   "outputs": [
    {
     "data": {
      "text/plain": [
       "0      37.9\n",
       "1      42.2\n",
       "2      47.3\n",
       "3      54.8\n",
       "4      43.1\n",
       "       ... \n",
       "409    15.4\n",
       "410    50.0\n",
       "411    40.6\n",
       "412    52.5\n",
       "413    63.9\n",
       "Name: Y house price of unit area, Length: 414, dtype: float64"
      ]
     },
     "execution_count": 34,
     "metadata": {},
     "output_type": "execute_result"
    }
   ],
   "source": [
    "Y3"
   ]
  },
  {
   "cell_type": "code",
   "execution_count": 35,
   "id": "047ed7ac-71dd-4521-9fec-4db82bf00da2",
   "metadata": {
    "tags": []
   },
   "outputs": [
    {
     "data": {
      "text/html": [
       "<div>\n",
       "<style scoped>\n",
       "    .dataframe tbody tr th:only-of-type {\n",
       "        vertical-align: middle;\n",
       "    }\n",
       "\n",
       "    .dataframe tbody tr th {\n",
       "        vertical-align: top;\n",
       "    }\n",
       "\n",
       "    .dataframe thead th {\n",
       "        text-align: right;\n",
       "    }\n",
       "</style>\n",
       "<table border=\"1\" class=\"dataframe\">\n",
       "  <thead>\n",
       "    <tr style=\"text-align: right;\">\n",
       "      <th></th>\n",
       "      <th>X1 transaction date</th>\n",
       "      <th>X2 house age</th>\n",
       "      <th>X3 distance to the nearest MRT station</th>\n",
       "      <th>X4 number of convenience stores</th>\n",
       "      <th>X5 latitude</th>\n",
       "      <th>X6 longitude</th>\n",
       "    </tr>\n",
       "  </thead>\n",
       "  <tbody>\n",
       "    <tr>\n",
       "      <th>0</th>\n",
       "      <td>0.272926</td>\n",
       "      <td>0.730594</td>\n",
       "      <td>0.009513</td>\n",
       "      <td>1.0</td>\n",
       "      <td>0.616941</td>\n",
       "      <td>0.719323</td>\n",
       "    </tr>\n",
       "    <tr>\n",
       "      <th>1</th>\n",
       "      <td>0.272926</td>\n",
       "      <td>0.445205</td>\n",
       "      <td>0.043809</td>\n",
       "      <td>0.9</td>\n",
       "      <td>0.584949</td>\n",
       "      <td>0.711451</td>\n",
       "    </tr>\n",
       "    <tr>\n",
       "      <th>2</th>\n",
       "      <td>1.000000</td>\n",
       "      <td>0.303653</td>\n",
       "      <td>0.083315</td>\n",
       "      <td>0.5</td>\n",
       "      <td>0.671231</td>\n",
       "      <td>0.758896</td>\n",
       "    </tr>\n",
       "    <tr>\n",
       "      <th>3</th>\n",
       "      <td>0.909389</td>\n",
       "      <td>0.303653</td>\n",
       "      <td>0.083315</td>\n",
       "      <td>0.5</td>\n",
       "      <td>0.671231</td>\n",
       "      <td>0.758896</td>\n",
       "    </tr>\n",
       "    <tr>\n",
       "      <th>4</th>\n",
       "      <td>0.181223</td>\n",
       "      <td>0.114155</td>\n",
       "      <td>0.056799</td>\n",
       "      <td>0.5</td>\n",
       "      <td>0.573194</td>\n",
       "      <td>0.743153</td>\n",
       "    </tr>\n",
       "  </tbody>\n",
       "</table>\n",
       "</div>"
      ],
      "text/plain": [
       "   X1 transaction date  X2 house age  X3 distance to the nearest MRT station  \\\n",
       "0             0.272926      0.730594                                0.009513   \n",
       "1             0.272926      0.445205                                0.043809   \n",
       "2             1.000000      0.303653                                0.083315   \n",
       "3             0.909389      0.303653                                0.083315   \n",
       "4             0.181223      0.114155                                0.056799   \n",
       "\n",
       "   X4 number of convenience stores  X5 latitude  X6 longitude  \n",
       "0                              1.0     0.616941      0.719323  \n",
       "1                              0.9     0.584949      0.711451  \n",
       "2                              0.5     0.671231      0.758896  \n",
       "3                              0.5     0.671231      0.758896  \n",
       "4                              0.5     0.573194      0.743153  "
      ]
     },
     "execution_count": 35,
     "metadata": {},
     "output_type": "execute_result"
    }
   ],
   "source": [
    "X4=X3.copy()\n",
    "Y4=Y3.copy()\n",
    "#Minimax Scaling or Normalization\n",
    "from pandas.core.dtypes.common import is_numeric_dtype\n",
    "for col in X4.columns:\n",
    "    if is_numeric_dtype(X4[col]):\n",
    "        maxval=X4[col].max()\n",
    "        minval=X4[col].min()\n",
    "        def normalizer(n):\n",
    "            stdn=(n-minval)/(maxval-minval)\n",
    "            return stdn\n",
    "        X4[col]=X4[col].apply(normalizer)\n",
    "    else:\n",
    "        continue\n",
    "X4.head()"
   ]
  },
  {
   "cell_type": "code",
   "execution_count": 36,
   "id": "56b9ede1-ba03-46b4-a2b1-196681c8b65e",
   "metadata": {
    "tags": []
   },
   "outputs": [
    {
     "data": {
      "text/html": [
       "<style>#sk-container-id-3 {color: black;background-color: white;}#sk-container-id-3 pre{padding: 0;}#sk-container-id-3 div.sk-toggleable {background-color: white;}#sk-container-id-3 label.sk-toggleable__label {cursor: pointer;display: block;width: 100%;margin-bottom: 0;padding: 0.3em;box-sizing: border-box;text-align: center;}#sk-container-id-3 label.sk-toggleable__label-arrow:before {content: \"▸\";float: left;margin-right: 0.25em;color: #696969;}#sk-container-id-3 label.sk-toggleable__label-arrow:hover:before {color: black;}#sk-container-id-3 div.sk-estimator:hover label.sk-toggleable__label-arrow:before {color: black;}#sk-container-id-3 div.sk-toggleable__content {max-height: 0;max-width: 0;overflow: hidden;text-align: left;background-color: #f0f8ff;}#sk-container-id-3 div.sk-toggleable__content pre {margin: 0.2em;color: black;border-radius: 0.25em;background-color: #f0f8ff;}#sk-container-id-3 input.sk-toggleable__control:checked~div.sk-toggleable__content {max-height: 200px;max-width: 100%;overflow: auto;}#sk-container-id-3 input.sk-toggleable__control:checked~label.sk-toggleable__label-arrow:before {content: \"▾\";}#sk-container-id-3 div.sk-estimator input.sk-toggleable__control:checked~label.sk-toggleable__label {background-color: #d4ebff;}#sk-container-id-3 div.sk-label input.sk-toggleable__control:checked~label.sk-toggleable__label {background-color: #d4ebff;}#sk-container-id-3 input.sk-hidden--visually {border: 0;clip: rect(1px 1px 1px 1px);clip: rect(1px, 1px, 1px, 1px);height: 1px;margin: -1px;overflow: hidden;padding: 0;position: absolute;width: 1px;}#sk-container-id-3 div.sk-estimator {font-family: monospace;background-color: #f0f8ff;border: 1px dotted black;border-radius: 0.25em;box-sizing: border-box;margin-bottom: 0.5em;}#sk-container-id-3 div.sk-estimator:hover {background-color: #d4ebff;}#sk-container-id-3 div.sk-parallel-item::after {content: \"\";width: 100%;border-bottom: 1px solid gray;flex-grow: 1;}#sk-container-id-3 div.sk-label:hover label.sk-toggleable__label {background-color: #d4ebff;}#sk-container-id-3 div.sk-serial::before {content: \"\";position: absolute;border-left: 1px solid gray;box-sizing: border-box;top: 0;bottom: 0;left: 50%;z-index: 0;}#sk-container-id-3 div.sk-serial {display: flex;flex-direction: column;align-items: center;background-color: white;padding-right: 0.2em;padding-left: 0.2em;position: relative;}#sk-container-id-3 div.sk-item {position: relative;z-index: 1;}#sk-container-id-3 div.sk-parallel {display: flex;align-items: stretch;justify-content: center;background-color: white;position: relative;}#sk-container-id-3 div.sk-item::before, #sk-container-id-3 div.sk-parallel-item::before {content: \"\";position: absolute;border-left: 1px solid gray;box-sizing: border-box;top: 0;bottom: 0;left: 50%;z-index: -1;}#sk-container-id-3 div.sk-parallel-item {display: flex;flex-direction: column;z-index: 1;position: relative;background-color: white;}#sk-container-id-3 div.sk-parallel-item:first-child::after {align-self: flex-end;width: 50%;}#sk-container-id-3 div.sk-parallel-item:last-child::after {align-self: flex-start;width: 50%;}#sk-container-id-3 div.sk-parallel-item:only-child::after {width: 0;}#sk-container-id-3 div.sk-dashed-wrapped {border: 1px dashed gray;margin: 0 0.4em 0.5em 0.4em;box-sizing: border-box;padding-bottom: 0.4em;background-color: white;}#sk-container-id-3 div.sk-label label {font-family: monospace;font-weight: bold;display: inline-block;line-height: 1.2em;}#sk-container-id-3 div.sk-label-container {text-align: center;}#sk-container-id-3 div.sk-container {/* jupyter's `normalize.less` sets `[hidden] { display: none; }` but bootstrap.min.css set `[hidden] { display: none !important; }` so we also need the `!important` here to be able to override the default hidden behavior on the sphinx rendered scikit-learn.org. See: https://github.com/scikit-learn/scikit-learn/issues/21755 */display: inline-block !important;position: relative;}#sk-container-id-3 div.sk-text-repr-fallback {display: none;}</style><div id=\"sk-container-id-3\" class=\"sk-top-container\"><div class=\"sk-text-repr-fallback\"><pre>LinearRegression()</pre><b>In a Jupyter environment, please rerun this cell to show the HTML representation or trust the notebook. <br />On GitHub, the HTML representation is unable to render, please try loading this page with nbviewer.org.</b></div><div class=\"sk-container\" hidden><div class=\"sk-item\"><div class=\"sk-estimator sk-toggleable\"><input class=\"sk-toggleable__control sk-hidden--visually\" id=\"sk-estimator-id-3\" type=\"checkbox\" checked><label for=\"sk-estimator-id-3\" class=\"sk-toggleable__label sk-toggleable__label-arrow\">LinearRegression</label><div class=\"sk-toggleable__content\"><pre>LinearRegression()</pre></div></div></div></div></div>"
      ],
      "text/plain": [
       "LinearRegression()"
      ]
     },
     "execution_count": 36,
     "metadata": {},
     "output_type": "execute_result"
    }
   ],
   "source": [
    "from sklearn.model_selection import train_test_split\n",
    "from sklearn.linear_model import LinearRegression\n",
    "X4_train, X4_test, Y4_train, Y4_test = train_test_split(X4, Y4, test_size=0.3, random_state=101)\n",
    "minmx_reg_mod=LinearRegression()\n",
    "minmx_reg_mod.fit(X4_train,Y4_train)"
   ]
  },
  {
   "cell_type": "code",
   "execution_count": 37,
   "id": "b2fd9974-c73d-400c-87cb-41c927679756",
   "metadata": {
    "tags": []
   },
   "outputs": [
    {
     "data": {
      "text/plain": [
       "array([12.63830383, 10.0304461 , 22.98807375, 48.50264837, 32.67140451,\n",
       "       37.82572669, 36.09178068, 41.05953639, 47.84830793, 40.4574746 ,\n",
       "       45.0361603 , 32.86533457, 40.48623576, 36.48827849, 44.30595729,\n",
       "       46.59668235, 38.42798244, 44.26307337, 48.81959723, 45.50409246,\n",
       "       42.23260833, 54.6526397 , 48.07373298, 37.48194231, 33.57091525,\n",
       "       48.26293154, 40.23479801, 50.42675437, 47.22333423, 38.99458517,\n",
       "       48.11033139, 40.47035604, 45.61060308, 43.98441528, 46.54336092,\n",
       "        8.18725886, 38.08375879, 39.82608171,  8.5339677 , 55.72740213,\n",
       "       32.17950939, 49.72698264, 24.85604948, 47.64473233, 41.23026871,\n",
       "       51.17703175, 42.04716292, 37.32689765, 44.24427856, 36.27028988,\n",
       "       47.55408451, 34.74054504, 43.53329366, 15.95586215, 38.29001222,\n",
       "       48.93912385, 44.69790471, 44.91934627, 45.33972278, 41.33035787,\n",
       "       34.39899173, 44.02303164, 41.99940522, 43.9553153 , 53.61420366,\n",
       "       44.24994361, 24.68926603, 47.06140631, 31.22031534, 40.4930635 ,\n",
       "       43.12220556, 48.76235412, 15.60855454, 35.80561434, 12.76370021,\n",
       "       42.89308611, 34.43839965, 45.9734211 , 44.1928161 , 12.0736566 ,\n",
       "       47.42677323, 38.74415932, 43.93495232, 26.95553667, 52.50729872,\n",
       "       15.98006429, 36.58145675, 30.87406656, 37.39582323, 12.93036536,\n",
       "       46.2014402 , 33.2425385 , 43.07876464, 24.18055926, 32.0791477 ,\n",
       "       31.94846605, 24.19775376, 44.7578954 , 30.27124305, 37.5875205 ,\n",
       "       46.27784489, 29.81168651, 38.76038694, 39.44063357, 48.40808813,\n",
       "       28.84884665, 26.98522519, 31.25467948, 33.80668812, 40.09617228,\n",
       "       46.6934425 , 44.73762204, 49.07685066, 34.5789675 , 45.82241719,\n",
       "       41.27851262, 42.7603896 , 47.44181001, 40.32886602, 45.4942412 ,\n",
       "       51.62507832, 41.31454145, 30.37857322, 16.0075392 , 35.30473459])"
      ]
     },
     "execution_count": 37,
     "metadata": {},
     "output_type": "execute_result"
    }
   ],
   "source": [
    "minmxpred=minmx_reg_mod.predict(X4_test)\n",
    "minmxpred"
   ]
  },
  {
   "cell_type": "code",
   "execution_count": 38,
   "id": "cd0af865-760e-45f6-88b1-5b87ce82e431",
   "metadata": {
    "tags": []
   },
   "outputs": [
    {
     "data": {
      "text/plain": [
       "176    19.2\n",
       "347    11.2\n",
       "307    24.7\n",
       "299    46.1\n",
       "391    31.3\n",
       "       ... \n",
       "16     70.1\n",
       "31     25.0\n",
       "36     22.9\n",
       "41     18.2\n",
       "24     38.8\n",
       "Name: Y house price of unit area, Length: 125, dtype: float64"
      ]
     },
     "execution_count": 38,
     "metadata": {},
     "output_type": "execute_result"
    }
   ],
   "source": [
    "Y4_test"
   ]
  },
  {
   "cell_type": "code",
   "execution_count": 39,
   "id": "c47b9fd1-3eb9-4116-a9a9-eda03e213cfb",
   "metadata": {
    "tags": []
   },
   "outputs": [],
   "source": [
    "from sklearn.metrics import r2_score\n",
    "from sklearn.metrics import mean_absolute_error,mean_squared_error\n",
    "minmxMSE=mean_squared_error(Y4_test, minmxpred)\n",
    "minmxR2=r2_score(Y4_test, minmxpred)"
   ]
  },
  {
   "cell_type": "code",
   "execution_count": 40,
   "id": "a147fdef-a41c-449c-8a5c-684aa42d1207",
   "metadata": {
    "tags": []
   },
   "outputs": [
    {
     "data": {
      "text/plain": [
       "46.2117978349489"
      ]
     },
     "execution_count": 40,
     "metadata": {},
     "output_type": "execute_result"
    }
   ],
   "source": [
    "minmxMSE"
   ]
  },
  {
   "cell_type": "code",
   "execution_count": 41,
   "id": "f9bd7a77-1e29-49a4-b3b0-c1a3ed488335",
   "metadata": {
    "tags": []
   },
   "outputs": [
    {
     "data": {
      "text/plain": [
       "0.6509058479985661"
      ]
     },
     "execution_count": 41,
     "metadata": {},
     "output_type": "execute_result"
    }
   ],
   "source": [
    "minmxR2"
   ]
  },
  {
   "cell_type": "code",
   "execution_count": 45,
   "id": "1e7433a4-092b-4fef-ae5b-d64c6437187d",
   "metadata": {
    "tags": []
   },
   "outputs": [
    {
     "data": {
      "text/plain": [
       "-1.2398970739013748e-11"
      ]
     },
     "execution_count": 45,
     "metadata": {},
     "output_type": "execute_result"
    }
   ],
   "source": [
    "usMSE-minmxMSE"
   ]
  },
  {
   "cell_type": "code",
   "execution_count": 46,
   "id": "fcdf9f68-6f8d-4b65-a48a-38098346e6cc",
   "metadata": {
    "tags": []
   },
   "outputs": [
    {
     "data": {
      "text/plain": [
       "9.370282327836321e-14"
      ]
     },
     "execution_count": 46,
     "metadata": {},
     "output_type": "execute_result"
    }
   ],
   "source": [
    "usR2-minmxR2"
   ]
  },
  {
   "cell_type": "code",
   "execution_count": 44,
   "id": "d40f8af6-c60b-46e9-978f-b709650ea1a2",
   "metadata": {},
   "outputs": [],
   "source": [
    "# Positive difference in MSE and Negative Difference in R2 indicates better model:\n",
    "# Greater R2 is prefered and Samller MSE is Prefered"
   ]
  },
  {
   "cell_type": "markdown",
   "id": "8970c562-c9f4-4948-85cd-ff28152dcfe1",
   "metadata": {
    "tags": []
   },
   "source": [
    "**Scaling worsen the results a little bit**"
   ]
  },
  {
   "cell_type": "markdown",
   "id": "7359c619-c275-4cb3-91b7-1eab9e53a154",
   "metadata": {},
   "source": [
    "# Summary"
   ]
  },
  {
   "cell_type": "markdown",
   "id": "88e283fc-9037-4183-a72a-6b0ed31e7bd9",
   "metadata": {},
   "source": [
    "**Performance:**\n",
    "\n",
    "1.Features on different scales can distort the loss function landscape and slow down convergence of optimization algorithms like gradient descent. Scaling features to a standard range (e.g. 0-1) helps the optimizer treat all features evenly.\n",
    "\n",
    "2.By standardizing the variable scales, feature scaling also helps regularization techniques like ridge regression work more effectively at preventing overfitting. \n",
    "\n",
    "3.In Scaled cases, the models were worse off by a tiny margin compared to the unscaled model. This probably could be due to the irrelavant contribution of the longitude and latitude feature considered in the model.\n",
    "\n",
    "**Interpretation of coefficients:**\n",
    "\n",
    "1.In an unscaled linear regression, the coefficients are in the original units of the predictors and not directly comparable. For example, a 1 unit change in a predictor with a large scale will have a smaller impact than the same 1 unit change in a predictor with a small scale.\n",
    "\n",
    "2.When all predictors are scaled to have comparable ranges (e.g. mean 0, variance 1), the coefficients become directly comparable - a coefficient of 0.5 on one predictor indicates about the same impact as a coefficient of 0.5 on another predictor.\n",
    "\n",
    "3.However, the absolute magnitude of the coefficients no longer represents the impact of a 1 unit real-world change in the original predictor. It instead shows the effect of a 1 unit change on the standardized scale.\n",
    "Feature scaling helps optimization and regularization, but changes the interpretation of coefficients from representing real-world impact to showing relative impact on the standardized scales. It's generally good practice for model performance but the coefficients then need to be interpreted differently."
   ]
  },
  {
   "cell_type": "code",
   "execution_count": null,
   "id": "9f652fff-0c00-4323-af61-9dabd0093d97",
   "metadata": {},
   "outputs": [],
   "source": []
  }
 ],
 "metadata": {
  "kernelspec": {
   "display_name": "Python 3 (ipykernel)",
   "language": "python",
   "name": "python3"
  },
  "language_info": {
   "codemirror_mode": {
    "name": "ipython",
    "version": 3
   },
   "file_extension": ".py",
   "mimetype": "text/x-python",
   "name": "python",
   "nbconvert_exporter": "python",
   "pygments_lexer": "ipython3",
   "version": "3.11.3"
  }
 },
 "nbformat": 4,
 "nbformat_minor": 5
}
